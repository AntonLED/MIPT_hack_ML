{
 "cells": [
  {
   "cell_type": "code",
   "execution_count": 27,
   "id": "b14a9413-0e44-4dd2-b739-d61525615328",
   "metadata": {},
   "outputs": [],
   "source": [
    "import numpy as np\n",
    "import pandas as pd\n",
    "from sklearn.metrics import pairwise_distances"
   ]
  },
  {
   "cell_type": "code",
   "execution_count": 2,
   "id": "bf1853e3-a8e3-4dff-b312-2b95a7ed136a",
   "metadata": {},
   "outputs": [],
   "source": [
    "df = pd.read_excel(\"../Ayrat/Coordinats_Final.xlsx\")"
   ]
  },
  {
   "cell_type": "code",
   "execution_count": 43,
   "id": "32244558-5d17-4e61-a1d5-6aea3967a47e",
   "metadata": {},
   "outputs": [],
   "source": [
    "def distance(x, y):\n",
    "    R = 6371.0\n",
    "    x = x / 180.0 * np.pi\n",
    "    y = y / 180.0 * np.pi\n",
    "    # print(x)\n",
    "    # print(y)\n",
    "    a = np.square(np.sin(x[0] - y[0])) / 4.0\n",
    "    # print(a)\n",
    "    # print(b)\n",
    "    b = np.cos(x[0]) * np.cos(y[0]) * np.square(np.sin(x[1] - y[1])) / 4.0\n",
    "    angle = np.arcsin(np.sqrt(a + b))\n",
    "    return 2 * R * angle"
   ]
  },
  {
   "cell_type": "code",
   "execution_count": 3,
   "id": "d227c2de-22f9-4556-9db3-eddb905d5126",
   "metadata": {},
   "outputs": [
    {
     "data": {
      "text/html": [
       "<div>\n",
       "<style scoped>\n",
       "    .dataframe tbody tr th:only-of-type {\n",
       "        vertical-align: middle;\n",
       "    }\n",
       "\n",
       "    .dataframe tbody tr th {\n",
       "        vertical-align: top;\n",
       "    }\n",
       "\n",
       "    .dataframe thead th {\n",
       "        text-align: right;\n",
       "    }\n",
       "</style>\n",
       "<table border=\"1\" class=\"dataframe\">\n",
       "  <thead>\n",
       "    <tr style=\"text-align: right;\">\n",
       "      <th></th>\n",
       "      <th>Unnamed: 0</th>\n",
       "      <th>code</th>\n",
       "      <th>address</th>\n",
       "      <th>coord</th>\n",
       "    </tr>\n",
       "  </thead>\n",
       "  <tbody>\n",
       "    <tr>\n",
       "      <th>0</th>\n",
       "      <td>25</td>\n",
       "      <td>20001088</td>\n",
       "      <td>Вынгапуровское м/р, куст № 404</td>\n",
       "      <td>(63.145377, 76.954688)</td>\n",
       "    </tr>\n",
       "    <tr>\n",
       "      <th>1</th>\n",
       "      <td>26</td>\n",
       "      <td>20001070</td>\n",
       "      <td>Стахановское м/р, ГПЭС</td>\n",
       "      <td>(54.250000, 53.750000)</td>\n",
       "    </tr>\n",
       "    <tr>\n",
       "      <th>2</th>\n",
       "      <td>27</td>\n",
       "      <td>20002638</td>\n",
       "      <td>Томская обл., Александровский р-н, Советское н...</td>\n",
       "      <td>(60.750556, 77.248889)</td>\n",
       "    </tr>\n",
       "    <tr>\n",
       "      <th>3</th>\n",
       "      <td>28</td>\n",
       "      <td>20000437</td>\n",
       "      <td>13 км автодороги Нижневартовск - Мегион, ООО \"...</td>\n",
       "      <td>(60.938545, 76.558902)</td>\n",
       "    </tr>\n",
       "    <tr>\n",
       "      <th>4</th>\n",
       "      <td>29</td>\n",
       "      <td>20000443</td>\n",
       "      <td>13 км автодороги Нижневартовск- Мегион, ООО \"С...</td>\n",
       "      <td>(60.938545, 76.558902)</td>\n",
       "    </tr>\n",
       "    <tr>\n",
       "      <th>...</th>\n",
       "      <td>...</td>\n",
       "      <td>...</td>\n",
       "      <td>...</td>\n",
       "      <td>...</td>\n",
       "    </tr>\n",
       "    <tr>\n",
       "      <th>1823</th>\n",
       "      <td>1348</td>\n",
       "      <td>20002065</td>\n",
       "      <td>689503, Чукотский АО, Анадырский р-н, пгт.Угол...</td>\n",
       "      <td>(64.7213952, 177.7420654)</td>\n",
       "    </tr>\n",
       "    <tr>\n",
       "      <th>1824</th>\n",
       "      <td>1349</td>\n",
       "      <td>20002048</td>\n",
       "      <td>689503, Чукотский АО, пос. Угольные Копи, ул. ...</td>\n",
       "      <td>(64.7213952, 177.7420654)</td>\n",
       "    </tr>\n",
       "    <tr>\n",
       "      <th>1825</th>\n",
       "      <td>1350</td>\n",
       "      <td>20002816</td>\n",
       "      <td>689503,Чукотский АО,Анадырский р-н,пос.Угольны...</td>\n",
       "      <td>(64.7213952, 177.7420654)</td>\n",
       "    </tr>\n",
       "    <tr>\n",
       "      <th>1826</th>\n",
       "      <td>1351</td>\n",
       "      <td>20001024</td>\n",
       "      <td>693010, Сахалинская обл., г. Южно- Сахалинск, ...</td>\n",
       "      <td>(46.95966155526315, 142.7478388368421)</td>\n",
       "    </tr>\n",
       "    <tr>\n",
       "      <th>1827</th>\n",
       "      <td>1352</td>\n",
       "      <td>20001023</td>\n",
       "      <td>694020, Сахалинская обл., г. Корсаков, ул. Пор...</td>\n",
       "      <td>(46.785909175968996, 142.74051464341085)</td>\n",
       "    </tr>\n",
       "  </tbody>\n",
       "</table>\n",
       "<p>1828 rows × 4 columns</p>\n",
       "</div>"
      ],
      "text/plain": [
       "      Unnamed: 0      code                                            address  \\\n",
       "0             25  20001088                    Вынгапуровское м/р, куст № 404    \n",
       "1             26  20001070                            Стахановское м/р, ГПЭС    \n",
       "2             27  20002638  Томская обл., Александровский р-н, Советское н...   \n",
       "3             28  20000437  13 км автодороги Нижневартовск - Мегион, ООО \"...   \n",
       "4             29  20000443  13 км автодороги Нижневартовск- Мегион, ООО \"С...   \n",
       "...          ...       ...                                                ...   \n",
       "1823        1348  20002065  689503, Чукотский АО, Анадырский р-н, пгт.Угол...   \n",
       "1824        1349  20002048  689503, Чукотский АО, пос. Угольные Копи, ул. ...   \n",
       "1825        1350  20002816  689503,Чукотский АО,Анадырский р-н,пос.Угольны...   \n",
       "1826        1351  20001024  693010, Сахалинская обл., г. Южно- Сахалинск, ...   \n",
       "1827        1352  20001023  694020, Сахалинская обл., г. Корсаков, ул. Пор...   \n",
       "\n",
       "                                         coord  \n",
       "0                       (63.145377, 76.954688)  \n",
       "1                       (54.250000, 53.750000)  \n",
       "2                       (60.750556, 77.248889)  \n",
       "3                       (60.938545, 76.558902)  \n",
       "4                       (60.938545, 76.558902)  \n",
       "...                                        ...  \n",
       "1823                 (64.7213952, 177.7420654)  \n",
       "1824                 (64.7213952, 177.7420654)  \n",
       "1825                 (64.7213952, 177.7420654)  \n",
       "1826    (46.95966155526315, 142.7478388368421)  \n",
       "1827  (46.785909175968996, 142.74051464341085)  \n",
       "\n",
       "[1828 rows x 4 columns]"
      ]
     },
     "execution_count": 3,
     "metadata": {},
     "output_type": "execute_result"
    }
   ],
   "source": [
    "df"
   ]
  },
  {
   "cell_type": "code",
   "execution_count": 58,
   "id": "9c1afadc-3bbe-43e1-a382-7457df8c9a96",
   "metadata": {},
   "outputs": [],
   "source": [
    "X = np.array([df[\"coord\"][i][1:-1].split(\", \") for i in range(len(df))]).astype(float)"
   ]
  },
  {
   "cell_type": "code",
   "execution_count": 45,
   "id": "58bf46d8-f427-44b1-8c9c-fb31b0b807b9",
   "metadata": {},
   "outputs": [],
   "source": [
    "distMatrix = pairwise_distances(X, metric=distance)"
   ]
  },
  {
   "cell_type": "code",
   "execution_count": 59,
   "id": "a01dff00-87d5-46ee-a6fc-f695e89289b8",
   "metadata": {},
   "outputs": [],
   "source": [
    "np.save(\"cargoRecieversDistanceMatrix\", distMatrix)"
   ]
  },
  {
   "cell_type": "code",
   "execution_count": null,
   "id": "1b215277-ba41-400a-aebc-0b3cfb96fcff",
   "metadata": {},
   "outputs": [],
   "source": []
  }
 ],
 "metadata": {
  "kernelspec": {
   "display_name": "Python 3 (ipykernel)",
   "language": "python",
   "name": "python3"
  },
  "language_info": {
   "codemirror_mode": {
    "name": "ipython",
    "version": 3
   },
   "file_extension": ".py",
   "mimetype": "text/x-python",
   "name": "python",
   "nbconvert_exporter": "python",
   "pygments_lexer": "ipython3",
   "version": "3.11.5"
  }
 },
 "nbformat": 4,
 "nbformat_minor": 5
}
