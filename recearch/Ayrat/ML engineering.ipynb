{
 "cells": [
  {
   "cell_type": "markdown",
   "id": "aba598bc-0b22-42b9-92cd-8811deb77815",
   "metadata": {},
   "source": [
    "Моя цель -- подготовить данные из **\"\"\"Исторические совершенные закупки товаров.csv\"\"\"** для ML алгоритма. \n",
    "\n",
    "Для этого надо отсортировать данные \n",
    "1) по времени : по столбцам **\"Срок поставки\"** и **\"Дата Заявки\"** из base датасета, учитывая столбец **\"Нормативный срок поставки МТР, отсчитываемый с даты инициирования процедуры закупки  (календарные дни)\"** из **\"\"\"КТ-516 Разделительная ведомость на поставку МТР с учетом нормативных сроков поставки.xlsx\"\"\"**\n",
    "2) по поставщикам: по столбцу **\"Поставщик\"** из base датасета и столбцу **\"Город\"** из **\"\"\"Справочник поставщиков.xlsx\"\"\"**\n",
    "\n",
    "А также проверить данные на ошибки в:\n",
    "1) классе продуктов: по столбцу **\"Код класса МТР\"** из based датасета\n",
    "   "
   ]
  },
  {
   "cell_type": "code",
   "execution_count": 1,
   "id": "114e3f53-ddf6-45e1-97dc-174f66d62e06",
   "metadata": {},
   "outputs": [
    {
     "name": "stdout",
     "output_type": "stream",
     "text": [
      "<class 'pandas.core.frame.DataFrame'>\n",
      "RangeIndex: 39530 entries, 0 to 39529\n",
      "Data columns (total 24 columns):\n",
      " #   Column                   Non-Null Count  Dtype  \n",
      "---  ------                   --------------  -----  \n",
      " 0   Заявка на закупку        39530 non-null  int64  \n",
      " 1   Позиц.                   39530 non-null  int64  \n",
      " 2   Статус плана МТО         39530 non-null  object \n",
      " 3   Текст статуса плана МТО  39530 non-null  object \n",
      " 4   Материал                 39530 non-null  int64  \n",
      " 5   Материал Имя             39530 non-null  object \n",
      " 6   Базисная ЕИ              39530 non-null  object \n",
      " 7   АЕИ заказа               39530 non-null  object \n",
      " 8   Кол-во к закупу, БЕИ     39530 non-null  float64\n",
      " 9   Кол-во к закупу, АЕИ     39530 non-null  float64\n",
      " 10  Срок поставки            39530 non-null  object \n",
      " 11  Дата заявки              39530 non-null  object \n",
      " 12  План.цена с НДС          39530 non-null  float64\n",
      " 13  Пл.цена с НДС за АЕИ     39530 non-null  float64\n",
      " 14  План.сумма с НДС 20%     39530 non-null  float64\n",
      " 15  Цена поставки с НДС      39530 non-null  float64\n",
      " 16  Валюта                   39530 non-null  object \n",
      " 17  Поставщик                25864 non-null  float64\n",
      " 18  Код класса МТР           39530 non-null  object \n",
      " 19  Наим.Код кл.             39530 non-null  object \n",
      " 20  ID лота                  30463 non-null  float64\n",
      " 21  Грузополучатель          39527 non-null  float64\n",
      " 22  Клиент                   39525 non-null  float64\n",
      " 23  ГПЗ Способ закупки       25253 non-null  object \n",
      "dtypes: float64(10), int64(3), object(11)\n",
      "memory usage: 7.2+ MB\n"
     ]
    }
   ],
   "source": [
    "# подгружаем либы и датасеты\n",
    "\n",
    "import pandas as pd\n",
    "import numpy as np\n",
    "\n",
    "purchases = pd.read_csv(\n",
    "    \"../../data/Исторические совершенные закупки товаров.csv\", sep=\",\"\n",
    ")\n",
    "\n",
    "KT_516 = pd.read_excel(\n",
    "    \"../../data/Справочники/КТ-516 Разделительная ведомость на поставку МТР с учетом нормативных сроков поставки.xlsx\",\n",
    "    skiprows=23,\n",
    ")\n",
    "\n",
    "materials = pd.read_excel(\"../../data/Справочники/Кабель справочник МТР.xlsx\")\n",
    "\n",
    "purchases.info()"
   ]
  },
  {
   "cell_type": "markdown",
   "id": "8ddcab36-86e8-42e8-a9a3-0945795281ef",
   "metadata": {},
   "source": []
  },
  {
   "cell_type": "markdown",
   "id": "99435890-5e7d-424e-9481-5dbb94af237c",
   "metadata": {},
   "source": [
    "Видим, что есть пропуски в столбцах **\"Клиент\"** (заказчик) и **\"Грузополучатель\"** (физическое расположения заказчика). Уберём их"
   ]
  },
  {
   "cell_type": "code",
   "execution_count": 2,
   "id": "4d321477-653a-41eb-8899-dd50bcd8b32c",
   "metadata": {},
   "outputs": [
    {
     "data": {
      "text/plain": [
       "(39522, 24)"
      ]
     },
     "execution_count": 2,
     "metadata": {},
     "output_type": "execute_result"
    }
   ],
   "source": [
    "purchases.dropna(subset=[\"Грузополучатель\", \"Клиент\"], inplace=True)\n",
    "purchases = purchases.reset_index(drop=True)\n",
    "purchases.shape"
   ]
  },
  {
   "cell_type": "markdown",
   "id": "1c3c9366-e932-40c3-8448-0b9e44277e45",
   "metadata": {},
   "source": [
    "Заметим, что Базисная Единица Измерения БЕИ и Альтернативная Единица Измерения АЕИ полностью равнозначны "
   ]
  },
  {
   "cell_type": "code",
   "execution_count": 3,
   "id": "1df2a816-7908-40cd-af3e-2e8650631035",
   "metadata": {},
   "outputs": [
    {
     "data": {
      "text/html": [
       "<div>\n",
       "<style scoped>\n",
       "    .dataframe tbody tr th:only-of-type {\n",
       "        vertical-align: middle;\n",
       "    }\n",
       "\n",
       "    .dataframe tbody tr th {\n",
       "        vertical-align: top;\n",
       "    }\n",
       "\n",
       "    .dataframe thead th {\n",
       "        text-align: right;\n",
       "    }\n",
       "</style>\n",
       "<table border=\"1\" class=\"dataframe\">\n",
       "  <thead>\n",
       "    <tr style=\"text-align: right;\">\n",
       "      <th></th>\n",
       "      <th>Заявка на закупку</th>\n",
       "      <th>Позиц.</th>\n",
       "      <th>Статус плана МТО</th>\n",
       "      <th>Текст статуса плана МТО</th>\n",
       "      <th>Материал</th>\n",
       "      <th>Материал Имя</th>\n",
       "      <th>Базисная ЕИ</th>\n",
       "      <th>АЕИ заказа</th>\n",
       "      <th>Кол-во к закупу, БЕИ</th>\n",
       "      <th>Кол-во к закупу, АЕИ</th>\n",
       "      <th>...</th>\n",
       "      <th>План.сумма с НДС 20%</th>\n",
       "      <th>Цена поставки с НДС</th>\n",
       "      <th>Валюта</th>\n",
       "      <th>Поставщик</th>\n",
       "      <th>Код класса МТР</th>\n",
       "      <th>Наим.Код кл.</th>\n",
       "      <th>ID лота</th>\n",
       "      <th>Грузополучатель</th>\n",
       "      <th>Клиент</th>\n",
       "      <th>ГПЗ Способ закупки</th>\n",
       "    </tr>\n",
       "  </thead>\n",
       "  <tbody>\n",
       "  </tbody>\n",
       "</table>\n",
       "<p>0 rows × 24 columns</p>\n",
       "</div>"
      ],
      "text/plain": [
       "Empty DataFrame\n",
       "Columns: [Заявка на закупку, Позиц., Статус плана МТО, Текст статуса плана МТО, Материал, Материал Имя, Базисная ЕИ, АЕИ заказа, Кол-во к закупу, БЕИ, Кол-во к закупу, АЕИ, Срок поставки, Дата заявки, План.цена с НДС, Пл.цена с НДС за АЕИ, План.сумма с НДС 20%, Цена поставки с НДС, Валюта, Поставщик, Код класса МТР, Наим.Код кл., ID лота, Грузополучатель, Клиент, ГПЗ Способ закупки]\n",
       "Index: []\n",
       "\n",
       "[0 rows x 24 columns]"
      ]
     },
     "execution_count": 3,
     "metadata": {},
     "output_type": "execute_result"
    }
   ],
   "source": [
    "purchases_diff_units = purchases[purchases[\"АЕИ заказа\"] != purchases[\"Базисная ЕИ\"]]\n",
    "purchases_diff_units.head()"
   ]
  },
  {
   "cell_type": "markdown",
   "id": "3160ae73-2908-4866-bc6a-5ce9fe7731f1",
   "metadata": {},
   "source": []
  },
  {
   "cell_type": "markdown",
   "id": "335aa9c2-0d60-40f3-96d3-b4fd70dae702",
   "metadata": {},
   "source": [
    "Проверим, что все материалы из столбца **\"Материал\"** правильно соотносятся с классами из столбца **\"Код класса МТР\"**"
   ]
  },
  {
   "cell_type": "code",
   "execution_count": 4,
   "id": "3f1b8a6a-a511-414c-9372-1cb384e203f8",
   "metadata": {},
   "outputs": [
    {
     "data": {
      "text/plain": [
       "True"
      ]
     },
     "execution_count": 4,
     "metadata": {},
     "output_type": "execute_result"
    }
   ],
   "source": [
    "# проверили, что все материалы есть в справочнике материалов\n",
    "\n",
    "set(purchases[\"Материал\"]).issubset(set(materials[\"Материал\"]))"
   ]
  },
  {
   "cell_type": "code",
   "execution_count": 5,
   "id": "af51e4ff-9aa1-46f3-a76b-136e25d5dc04",
   "metadata": {},
   "outputs": [
    {
     "data": {
      "text/plain": [
       "(0, 24)"
      ]
     },
     "execution_count": 5,
     "metadata": {},
     "output_type": "execute_result"
    }
   ],
   "source": [
    "# непосредственная проверка. В конце shape получился 0, значит все материалы и классы правильно соотносятся друг с другом.\n",
    "\n",
    "purchases_materials = purchases[\"Материал\"]\n",
    "material_classes_book = [\n",
    "    materials[(materials[\"Материал\"] == purchases_materials[i])][\"Класс\"]\n",
    "    for i in range(len(purchases_materials))\n",
    "]\n",
    "\n",
    "material_classes_book = []\n",
    "\n",
    "for i in range(len(purchases_materials)):\n",
    "    material_classes_book.append(\n",
    "        np.array(materials[(materials[\"Материал\"] == purchases_materials[i])][\"Класс\"])[\n",
    "            0\n",
    "        ]\n",
    "    )\n",
    "\n",
    "purchases_garbage_materials = purchases[\n",
    "    material_classes_book != purchases[\"Код класса МТР\"]\n",
    "]\n",
    "purchases_garbage_materials.shape"
   ]
  },
  {
   "cell_type": "markdown",
   "id": "6e93bf72-a6e9-44b8-8f11-d8967706be6a",
   "metadata": {},
   "source": []
  },
  {
   "cell_type": "markdown",
   "id": "0199809d-347e-4ed3-9e70-3548d5e64dad",
   "metadata": {},
   "source": [
    "Приступаем к сортировке (чистке) данных по времени. \n",
    "\n",
    "Правило следующее: если количество дней между заявкой и сроком поставки меньше, чем время, необходимое для изготовления товара, то эти товары выбрасываются из base датасета в новый мусорный датасет.\n",
    "\n",
    "Прежде всего проверим, что для всех товаров дан минимальный подкласс, для которого определено понятие времени изготовления. "
   ]
  },
  {
   "cell_type": "code",
   "execution_count": 6,
   "id": "74d6e77c-e1a0-4c6e-ac41-0c5f9266a1ff",
   "metadata": {},
   "outputs": [
    {
     "data": {
      "text/plain": [
       "array(['G21', 'G2104', 'G210401', 'G2105', 'G210501', 'G210503'],\n",
       "      dtype=object)"
      ]
     },
     "execution_count": 6,
     "metadata": {},
     "output_type": "execute_result"
    }
   ],
   "source": [
    "# определяем классы по справочнику КТ-516, которые не являются минимальными подклассами\n",
    "\n",
    "KT_516_garbage_classes = np.array(\n",
    "    KT_516[\n",
    "        (\n",
    "            KT_516[\n",
    "                \"Нормативный срок поставки МТР, отсчитываемый с даты инициирования процедуры закупки  (календарные дни)**\"\n",
    "            ]\n",
    "            == \"Необходимо использовать подкласс\"\n",
    "        )\n",
    "    ][\"Класс в ЕСМ\"]\n",
    ")\n",
    "\n",
    "KT_516_garbage_classes"
   ]
  },
  {
   "cell_type": "code",
   "execution_count": 7,
   "id": "e4396d88-2fec-43f1-b073-257a658f30c0",
   "metadata": {},
   "outputs": [],
   "source": [
    "# делаем датасет минимальных классов\n",
    "\n",
    "KT_516_data = KT_516[\n",
    "    (\n",
    "        KT_516[\n",
    "            \"Нормативный срок поставки МТР, отсчитываемый с даты инициирования процедуры закупки  (календарные дни)**\"\n",
    "        ]\n",
    "        != \"Необходимо использовать подкласс\"\n",
    "    )\n",
    "]"
   ]
  },
  {
   "cell_type": "code",
   "execution_count": 8,
   "id": "8bcdebf3-89b3-4079-9706-4ee026afdf78",
   "metadata": {},
   "outputs": [
    {
     "name": "stdout",
     "output_type": "stream",
     "text": [
      "(5, 24)\n",
      "(39522, 24)\n"
     ]
    }
   ],
   "source": [
    "# смотрим сколько данных в закупках, в которых не указан минимальный подкласс\n",
    "\n",
    "purchases_garbage_classes = purchases[\n",
    "    purchases[\"Код класса МТР\"].isin(KT_516_garbage_classes)\n",
    "]\n",
    "print(purchases_garbage_classes.shape)\n",
    "print(purchases.shape)"
   ]
  },
  {
   "cell_type": "code",
   "execution_count": 9,
   "id": "15d8e88a-7aa4-472c-9c24-873cd4e34718",
   "metadata": {},
   "outputs": [
    {
     "data": {
      "text/plain": [
       "(39517, 24)"
      ]
     },
     "execution_count": 9,
     "metadata": {},
     "output_type": "execute_result"
    }
   ],
   "source": [
    "# видим, что на 5 элементиков можно забить\n",
    "\n",
    "purchases = purchases[\n",
    "    ~purchases[\"Код класса МТР\"].isin(KT_516_garbage_classes)\n",
    "].reset_index(drop=True)\n",
    "purchases.shape"
   ]
  },
  {
   "cell_type": "code",
   "execution_count": 10,
   "id": "73156c04-21e8-4623-9799-9a1fbb389ba6",
   "metadata": {
    "scrolled": true
   },
   "outputs": [
    {
     "name": "stdout",
     "output_type": "stream",
     "text": [
      "<class 'pandas.core.frame.DataFrame'>\n",
      "Index: 36038 entries, 1 to 39516\n",
      "Data columns (total 24 columns):\n",
      " #   Column                   Non-Null Count  Dtype         \n",
      "---  ------                   --------------  -----         \n",
      " 0   Заявка на закупку        36038 non-null  int64         \n",
      " 1   Позиц.                   36038 non-null  int64         \n",
      " 2   Статус плана МТО         36038 non-null  object        \n",
      " 3   Текст статуса плана МТО  36038 non-null  object        \n",
      " 4   Материал                 36038 non-null  int64         \n",
      " 5   Материал Имя             36038 non-null  object        \n",
      " 6   Базисная ЕИ              36038 non-null  object        \n",
      " 7   АЕИ заказа               36038 non-null  object        \n",
      " 8   Кол-во к закупу, БЕИ     36038 non-null  float64       \n",
      " 9   Кол-во к закупу, АЕИ     36038 non-null  float64       \n",
      " 10  Срок поставки            36038 non-null  datetime64[ns]\n",
      " 11  Дата заявки              36038 non-null  datetime64[ns]\n",
      " 12  План.цена с НДС          36038 non-null  float64       \n",
      " 13  Пл.цена с НДС за АЕИ     36038 non-null  float64       \n",
      " 14  План.сумма с НДС 20%     36038 non-null  float64       \n",
      " 15  Цена поставки с НДС      36038 non-null  float64       \n",
      " 16  Валюта                   36038 non-null  object        \n",
      " 17  Поставщик                25164 non-null  float64       \n",
      " 18  Код класса МТР           36038 non-null  object        \n",
      " 19  Наим.Код кл.             36038 non-null  object        \n",
      " 20  ID лота                  29504 non-null  float64       \n",
      " 21  Грузополучатель          36038 non-null  float64       \n",
      " 22  Клиент                   36038 non-null  float64       \n",
      " 23  ГПЗ Способ закупки       24883 non-null  object        \n",
      "dtypes: datetime64[ns](2), float64(10), int64(3), object(9)\n",
      "memory usage: 6.9+ MB\n",
      "None\n",
      "<class 'pandas.core.frame.DataFrame'>\n",
      "Index: 3479 entries, 0 to 39513\n",
      "Data columns (total 24 columns):\n",
      " #   Column                   Non-Null Count  Dtype         \n",
      "---  ------                   --------------  -----         \n",
      " 0   Заявка на закупку        3479 non-null   int64         \n",
      " 1   Позиц.                   3479 non-null   int64         \n",
      " 2   Статус плана МТО         3479 non-null   object        \n",
      " 3   Текст статуса плана МТО  3479 non-null   object        \n",
      " 4   Материал                 3479 non-null   int64         \n",
      " 5   Материал Имя             3479 non-null   object        \n",
      " 6   Базисная ЕИ              3479 non-null   object        \n",
      " 7   АЕИ заказа               3479 non-null   object        \n",
      " 8   Кол-во к закупу, БЕИ     3479 non-null   float64       \n",
      " 9   Кол-во к закупу, АЕИ     3479 non-null   float64       \n",
      " 10  Срок поставки            3479 non-null   datetime64[ns]\n",
      " 11  Дата заявки              3479 non-null   datetime64[ns]\n",
      " 12  План.цена с НДС          3479 non-null   float64       \n",
      " 13  Пл.цена с НДС за АЕИ     3479 non-null   float64       \n",
      " 14  План.сумма с НДС 20%     3479 non-null   float64       \n",
      " 15  Цена поставки с НДС      3479 non-null   float64       \n",
      " 16  Валюта                   3479 non-null   object        \n",
      " 17  Поставщик                695 non-null    float64       \n",
      " 18  Код класса МТР           3479 non-null   object        \n",
      " 19  Наим.Код кл.             3479 non-null   object        \n",
      " 20  ID лота                  953 non-null    float64       \n",
      " 21  Грузополучатель          3479 non-null   float64       \n",
      " 22  Клиент                   3479 non-null   float64       \n",
      " 23  ГПЗ Способ закупки       365 non-null    object        \n",
      "dtypes: datetime64[ns](2), float64(10), int64(3), object(9)\n",
      "memory usage: 679.5+ KB\n",
      "None\n"
     ]
    }
   ],
   "source": [
    "# чищу данные\n",
    "\n",
    "days_check = []\n",
    "\n",
    "purchases[\"Дата заявки\"] = pd.to_datetime(purchases[\"Дата заявки\"])\n",
    "purchases[\"Срок поставки\"] = pd.to_datetime(purchases[\"Срок поставки\"])\n",
    "\n",
    "for i, date_order in enumerate(purchases[\"Дата заявки\"]):\n",
    "    date_delivery = purchases[\"Срок поставки\"][i]\n",
    "    class_MTR = purchases[\"Код класса МТР\"][i]\n",
    "    days_of_preparing = np.array(\n",
    "        KT_516_data[(KT_516_data[\"Класс в ЕСМ\"] == class_MTR)][\n",
    "            (\n",
    "                \"Нормативный срок поставки МТР, отсчитываемый с даты инициирования процедуры закупки  (календарные дни)**\"\n",
    "            )\n",
    "        ]\n",
    "    )[0]\n",
    "    days_check.append((date_delivery - date_order).days - days_of_preparing)\n",
    "\n",
    "purchases_sorted_time = purchases[\n",
    "    [days_check[i] >= 0 for i in range(purchases.shape[0])]\n",
    "]\n",
    "purchases_garbage = purchases[[days_check[i] < 0 for i in range(purchases.shape[0])]]\n",
    "print(purchases_sorted_time.info())\n",
    "print(purchases_garbage.info())"
   ]
  },
  {
   "cell_type": "code",
   "execution_count": 11,
   "id": "2f77a2bc-7b1a-438a-aba3-1901bd305f0a",
   "metadata": {},
   "outputs": [],
   "source": [
    "purchases = purchases_sorted_time"
   ]
  },
  {
   "cell_type": "markdown",
   "id": "4adc3e5f-cbe9-4364-b82e-0eb01c31572d",
   "metadata": {},
   "source": [
    "ГОЙДА ГОЙДА ГОЙДА\n",
    "ГОЙДА ГОЙДА ГОЙДА\n",
    "ГОЙДА\n",
    "ГОЙДА\n",
    "ГОЙДА\n",
    "ГОЙДА\n",
    "ГОЙДА\n",
    "ГОЙДА\n",
    "ГОЙДА\n",
    "ГОЙДА\n",
    "\n",
    "ГОЙДА ГОЙДА ГОЙДА\n",
    "ГОЙДА ГОЙДА ГОЙДА\n",
    "ГОЙДА                ГОЙДА\n",
    "ГОЙДА                ГОЙДА\n",
    "ГОЙДА                ГОЙДА\n",
    "ГОЙДА                ГОЙДА\n",
    "ГОЙДА ГОЙДА ГОЙДА\n",
    "ГОЙДА ГОЙДА ГОЙДА\n",
    "\n",
    "               ГОЙДА\n",
    "\n",
    "ГОЙДА                ГОЙДА\n",
    "ГОЙДА                ГОЙДА\n",
    "ГОЙДА               ГОЙДА! \n",
    "ГОЙДА              ГОЙДА!! \n",
    "ГОЙДА            ГОЙДА!!!! \n",
    "ГОЙДА          ГОЙДА!!!!!! \n",
    "ГОЙДА ГОЙДА ГОЙДА\n",
    "ГОЙДА ГОЙДА ГОЙДА\n",
    "\n",
    "   ГОЙДА ГОЙДА ГОЙДА\n",
    "   ГОЙДА ГОЙДА ГОЙДА\n",
    "   ГОЙДА                ГОЙДА\n",
    "   ГОЙДА                ГОЙДА\n",
    "   ГОЙДА                ГОЙДА\n",
    "   ГОЙДА                ГОЙДА\n",
    "   ГОЙДА                ГОЙДА\n",
    "ГОЙДА!!! ГОЙДА!!! ГОЙДА!!!\n",
    "ГОЙДА!!! ГОЙДА!!! ГОЙДА!!! \n",
    "ГОЙДА                          ГОЙДА\n",
    "ГОЙДА                          ГОЙДА\n",
    "\n",
    "     ГОЙДА ГОЙДА ГОЙДА\n",
    "    ГОЙДА ГОЙДА!!ГОЙДА\n",
    "   ГОЙДА                  ГОЙДА\n",
    "  ГОЙДА                   ГОЙДА\n",
    "ГОЙДА!! ГОЙДА!! ГОЙДА\n",
    "ГОЙДА!! ГОЙДА!!! ГОЙДА\n",
    "ГОЙДА                      ГОЙДА\n",
    "ГОЙДА                      ГОЙДА\n",
    "ГОЙДА                      ГОЙДА\n",
    "ГОЙДА                      ГОЙДАГОООЙЙЙДАААААААААА!!!!!! ZZZZZVVVVVV\n",
    "ZZZZZOOOOOOVVVVVV\n",
    "В МЕНЯ ВСЕЛИЛСЯ ДУХ ИСТИННОГО ПАТРИОТА РОСССИ ZV🇷🇺🇷🇺💪💪СВОИХ НЕ БРОСАЕМ!!!!\n",
    "Я РУССКИЙ Я ИДУ ДО КОНЦА Я РУССКИЙ МОЯ КРОВЬ ОТ ОТЦА Я РУССКИЙ И МНЕ ПОВЕЗЛО Я РУССКИЙ ВСЕМУ МИРУ НА ЗЛО💪💪💪💪\n",
    "ШАМАН НАШ БРАТ СЛАВА ПУТИНУ ЧТОБ ОН 1000 ЛЕТ ЖИЛ И КАДЫРОВ БРАТКИ И ЛУКАШЕНКО ОНИ ЕДИНСТВЕННЫЕ ЛЮДИ НА ПЛАНЕТЕ У КОГО ЕЩЁ ОСТАЛСЯ РАССУДОК ОНИ ВЫСТУПАЮТ ЗА ВСЕ ХОРОШЕЕ А ЗАПАД ПОКЛОНЯЕТСЯ САТАНЕ ОНИ ФАШИСТЫ\n",
    "РОССИЯ ВСЕГДА ПРАВА!!!!!💪💪💪💪💪\n",
    "ГООООЙДААААААААА🇷🇺🇷🇺🇷🇺🇷🇺🇷🇺🇷🇺🇷🇺ZOV🐻🐻🐻\n",
    "ZOV🇷🇺🇷🇺🐻🐻💪💪 🐽 🐷 🐖 🇺🇦 🐖 🐷 🐽 ХОХЛЫ СОСАТЬ Я ПРИДУ В КИЕВ НАХУЙ И ЗАСУНУ ЧЕРЕЗ АНУС ЗЕЛЕНСКОМУ ФЛАГ ВЕЛИКОЙ СТРАНЫ 🇷🇺🇷🇺🇷🇺 А ПОТОМ Я ЗАОРУ НА ВСЮ ХОХЛЯНДИЮ: КИЕВ НАШ 🇷🇺🇷🇺💪💪💪Z ПЕРЕМОГИ НЕ БУДЕТ ХОХЛЫ И ПИНДОСЯТИНА 🇷🇺🇷🇺🇷🇺🇷🇺🎊🎊🎊🎊💪💪💪💪💪 А ПОТОМ ВМЕСТЕ С ПОЗДНЯКОВЫМ БУДЕМ ЛОВИТЬ КИЕВЛЯН СО СЛОВАМИ: ТЕПЕРЬ ТЫ РУССКИЙ СОСУНОК🇷🇺🇷🇺🎉🎉🎊🎊🎊💪💪💪Z А ПОТОМ КО МНЕ ПРИДЕТ ВЕЛИЧАЙШИЙ ИЗ ВСЕХ БОГОВ ВЛАДИМИР ВЛАДИМИРОВИЧ ПУТИН И ВРУЧИТ МНЕ МЕДАЛЬ И ТАКОЙ: ХОРОШАЯ РАБОТА, СЫНОК🇷🇺💪💪💪🇷🇺🇷🇺🐻Z А ПОТОМ Я ПОЙДУ В ПЕНДОСИЮ К БАЙДЕНУ И Я ТАКОЙ: НУ ЧЕ СУКА НЕ ДОИГРАЛСЯ БЛЯТЬ? И Я НАЧНУ ЕГО ЕБАТЬ КРИЧА: Я РУССКИЙ Я ИДУ ДО КОНЦА🇷🇺🇷🇺🫡🫡👊👊👊✊✊👊👊💪💪💪💪🐻🐻🐻🇷🇺🇷🇺🇷🇺 А ПОТОМ КОГДА ЗАКОНЧУ ВСКАЧУ НА СВОЕГО МИШКУ МИЛАХЫЧА🇷🇺🇷🇺🇷🇺🥰🥰✊👊✊✊🐻🐻🐻🐻🇷🇺🇷🇺🇷🇺 И ПОСКАЧУ НА НЕМ В ТАЙГУ ПОМОГАТЬ РУССКИМ ЗВЕРЯМ 🇷🇺🇷🇺🇷🇺👊👊✊👊👊✊👊👊💪💪🐻🐻🐻🐻🐾🐾 ПОТОМУ ЧТО Я РУССКИЙ😃😃😃💪💪💪💪👊👊✊✊👌👌👌👍👍👍👍🇷🇺🇷🇺🇷🇺🇷🇺🇷🇺🇷🇺🇷🇺🇷🇺ГОЙДА ГОЙДА"
   ]
  },
  {
   "cell_type": "code",
   "execution_count": 12,
   "id": "8167f293-8bfc-44ce-a50f-b59cba113be8",
   "metadata": {},
   "outputs": [],
   "source": [
    "slons = pd.read_csv(\"../Daniil/suppliersClassified\")\n",
    "slons_id = slons[\"Кредитор\"].values"
   ]
  },
  {
   "cell_type": "code",
   "execution_count": 13,
   "id": "a4772988-93b0-47e7-9fd0-4ad67264b438",
   "metadata": {},
   "outputs": [
    {
     "name": "stdout",
     "output_type": "stream",
     "text": [
      "<class 'pandas.core.frame.DataFrame'>\n",
      "RangeIndex: 36010 entries, 0 to 36009\n",
      "Data columns (total 24 columns):\n",
      " #   Column                   Non-Null Count  Dtype         \n",
      "---  ------                   --------------  -----         \n",
      " 0   Заявка на закупку        36010 non-null  int64         \n",
      " 1   Позиц.                   36010 non-null  int64         \n",
      " 2   Статус плана МТО         36010 non-null  object        \n",
      " 3   Текст статуса плана МТО  36010 non-null  object        \n",
      " 4   Материал                 36010 non-null  int64         \n",
      " 5   Материал Имя             36010 non-null  object        \n",
      " 6   Базисная ЕИ              36010 non-null  object        \n",
      " 7   АЕИ заказа               36010 non-null  object        \n",
      " 8   Кол-во к закупу, БЕИ     36010 non-null  float64       \n",
      " 9   Кол-во к закупу, АЕИ     36010 non-null  float64       \n",
      " 10  Срок поставки            36010 non-null  datetime64[ns]\n",
      " 11  Дата заявки              36010 non-null  datetime64[ns]\n",
      " 12  План.цена с НДС          36010 non-null  float64       \n",
      " 13  Пл.цена с НДС за АЕИ     36010 non-null  float64       \n",
      " 14  План.сумма с НДС 20%     36010 non-null  float64       \n",
      " 15  Цена поставки с НДС      36010 non-null  float64       \n",
      " 16  Валюта                   36010 non-null  object        \n",
      " 17  Поставщик                25136 non-null  float64       \n",
      " 18  Код класса МТР           36010 non-null  object        \n",
      " 19  Наим.Код кл.             36010 non-null  object        \n",
      " 20  ID лота                  29476 non-null  float64       \n",
      " 21  Грузополучатель          36010 non-null  float64       \n",
      " 22  Клиент                   36010 non-null  float64       \n",
      " 23  ГПЗ Способ закупки       24882 non-null  object        \n",
      "dtypes: datetime64[ns](2), float64(10), int64(3), object(9)\n",
      "memory usage: 6.6+ MB\n"
     ]
    }
   ],
   "source": [
    "purchases = purchases[\n",
    "    (purchases[\"Поставщик\"].isin(slons_id)) | (np.isnan(purchases[\"Поставщик\"]))\n",
    "].reset_index(drop=True)\n",
    "purchases.info();"
   ]
  },
  {
   "cell_type": "code",
   "execution_count": 15,
   "id": "8cdc216d-ec78-4c60-8f83-01ad8fd87ace",
   "metadata": {},
   "outputs": [],
   "source": [
    "slons_recievers = pd.read_excel(\"./Coordinats_Final.xlsx\")\n",
    "slons_id_recievers = slons_recievers[\"code\"].values"
   ]
  },
  {
   "cell_type": "code",
   "execution_count": null,
   "id": "2b39af15-704a-40d7-90e2-c9e6881202cb",
   "metadata": {},
   "outputs": [],
   "source": [
    "purchases = purchases[\n",
    "    (purchases[\"Поставщик\"].isin(slons_id)) | (np.isnan(purchases[\"Поставщик\"]))\n",
    "].reset_index(drop=True)\n",
    "purchases.info();"
   ]
  },
  {
   "cell_type": "code",
   "execution_count": 16,
   "id": "4b4be72d-d685-4bb0-9829-a9ed735ce166",
   "metadata": {},
   "outputs": [
    {
     "data": {
      "text/plain": [
       "array([7.21480000e+04, 5.49480000e+04, 5.86910000e+04, 6.12850000e+04,\n",
       "       7.61200000e+04, 8.39960000e+04, 5.95410000e+04, 4.77720000e+04,\n",
       "       2.76450000e+04, 7.32730000e+04, 6.14480000e+04, 6.94180000e+04,\n",
       "       4.01940000e+04, 6.05190000e+04, 5.20950000e+04, 5.22640000e+04,\n",
       "       5.84640000e+04, 7.17510331e+09, 4.41140000e+04, 5.25090000e+04,\n",
       "       3.75710000e+04,            nan, 4.85560000e+04, 6.60050000e+04,\n",
       "       7.69250000e+04, 5.90000000e+01, 4.06610000e+04, 7.12000151e+09,\n",
       "       7.16440000e+04, 6.18600000e+04, 5.93100000e+04, 7.63510000e+04,\n",
       "       2.58900000e+04, 6.15610000e+04, 6.24880000e+04, 1.11870000e+04,\n",
       "       4.55460000e+04, 6.72320000e+04, 7.17510066e+09, 7.17510066e+09,\n",
       "       5.06420000e+04, 8.45300000e+04, 2.43760000e+04, 8.63110000e+04,\n",
       "       6.31040000e+04, 8.42570000e+04, 5.66000000e+04, 9.27060000e+04,\n",
       "       5.76500000e+04, 9.30610000e+04, 8.64000000e+04, 7.88940000e+04,\n",
       "       7.17510720e+09, 5.72990000e+04, 7.13009144e+09, 7.36680000e+04,\n",
       "       7.22490000e+04, 9.56720000e+04, 2.41690000e+04, 6.40250000e+04,\n",
       "       3.92950000e+04, 7.05030000e+04, 6.95730000e+04, 9.63180000e+04,\n",
       "       6.83770000e+04, 6.34700000e+04, 7.90250000e+04, 7.30730000e+04,\n",
       "       5.24610000e+04, 9.35780000e+04, 7.14070017e+09, 9.42920000e+04,\n",
       "       9.39950000e+04, 7.21490000e+04, 6.85010000e+04, 2.32880000e+04,\n",
       "       5.06300000e+04, 2.76050000e+04, 1.12410000e+04, 6.81280000e+04,\n",
       "       8.80310000e+04, 7.36360000e+04, 9.53460000e+04, 9.08790000e+04,\n",
       "       4.02220000e+04, 7.16690206e+09, 7.22220000e+04, 5.39110000e+04,\n",
       "       7.30220000e+04, 7.13920663e+09, 7.53130000e+04, 7.16690353e+09,\n",
       "       7.17510151e+09, 7.11900179e+09, 7.16691014e+09, 7.17000308e+09,\n",
       "       2.34720000e+04, 7.13940482e+09, 8.72390000e+04, 7.01820000e+04,\n",
       "       1.59850000e+04, 7.17511004e+09, 7.14070484e+09, 7.55510000e+04,\n",
       "       9.41440000e+04, 8.15220000e+04, 7.72520000e+04, 7.96250000e+04,\n",
       "       9.68970000e+04, 8.57940000e+04, 9.82490000e+04, 7.16690095e+09,\n",
       "       7.33060000e+04, 7.16000006e+09, 9.61900000e+04, 7.14070357e+09,\n",
       "       6.88910000e+04, 4.13100000e+04, 7.30820000e+04, 8.37800000e+04,\n",
       "       6.01800000e+04, 7.26320000e+04, 8.53600000e+03, 4.08780000e+04,\n",
       "       5.88570000e+04, 7.96910000e+04, 9.75090000e+04, 9.65420000e+04,\n",
       "       9.65940000e+04, 6.10110000e+04, 5.93650000e+04, 7.82470000e+04,\n",
       "       7.17511017e+09, 9.74350000e+04, 8.60280000e+04, 7.13902114e+09,\n",
       "       7.64750000e+04, 9.70820000e+04, 7.17510816e+09, 8.44970000e+04,\n",
       "       7.17510874e+09, 2.44460000e+04, 6.79420000e+04, 6.01990000e+04,\n",
       "       4.35560000e+04, 9.58160000e+04, 2.54710000e+04, 7.17510834e+09,\n",
       "       7.17511002e+09, 2.61070000e+04, 7.16970021e+09, 9.47460000e+04,\n",
       "       7.12000399e+09, 5.50190000e+04, 7.16693028e+09, 7.13920681e+09,\n",
       "       7.82330000e+04, 7.89510000e+04, 5.38850000e+04, 7.17510643e+09,\n",
       "       9.66330000e+04, 3.95340000e+04, 7.13920628e+09, 7.16693031e+09,\n",
       "       7.14070510e+09, 3.78460000e+04, 1.03322000e+05, 9.75860000e+04,\n",
       "       7.13860376e+09, 5.06150000e+04, 7.13860378e+09, 7.14070550e+09,\n",
       "       1.02554000e+05, 1.04143000e+05, 7.13920228e+09, 7.16690600e+09,\n",
       "       9.99920000e+04, 9.16010000e+04, 1.75400000e+03, 9.11530000e+04,\n",
       "       9.48860000e+04, 9.51280000e+04, 8.58620000e+04, 1.03704000e+05,\n",
       "       7.17510312e+09, 7.13940651e+09, 9.42930000e+04, 7.16690094e+09,\n",
       "       5.92190000e+04, 8.60600000e+04, 7.14070678e+09, 7.13860313e+09,\n",
       "       7.14070549e+09, 7.13860010e+09, 7.41110000e+04, 7.63380000e+04,\n",
       "       1.02775000e+05, 5.40860000e+04, 7.21640000e+04, 4.51100000e+04,\n",
       "       1.03684000e+05, 7.51360000e+04, 1.06015000e+05, 4.72450000e+04,\n",
       "       7.13860347e+09, 7.22370000e+04, 6.00700000e+04, 9.82350000e+04,\n",
       "       6.89690000e+04, 7.14070775e+09, 7.16693054e+09, 7.13920509e+09,\n",
       "       7.13860352e+09, 5.80600000e+04, 7.14280000e+04, 9.32260000e+04,\n",
       "       6.91750000e+04, 7.13920476e+09, 7.55070000e+04, 7.13920661e+09,\n",
       "       7.13920596e+09, 7.60530000e+04, 7.13920455e+09, 7.12000422e+09,\n",
       "       8.42090000e+04, 7.13920425e+09, 7.13920498e+09, 7.13920573e+09,\n",
       "       7.12000258e+09, 7.13940581e+09, 7.17510640e+09, 7.14070492e+09,\n",
       "       7.16693069e+09, 7.58150000e+04, 7.13920590e+09, 4.91910000e+04,\n",
       "       7.13920626e+09, 7.17511027e+09, 1.09653000e+05, 1.01382000e+05,\n",
       "       5.87460000e+04, 4.09520000e+04, 7.17511042e+09, 7.15710173e+09,\n",
       "       1.11858000e+05, 2.62500000e+04, 7.16693083e+09, 7.48960000e+04,\n",
       "       9.06220000e+04, 6.93570000e+04, 7.14070796e+09, 6.14280000e+04,\n",
       "       9.79670000e+04, 5.92260000e+04, 3.92850000e+04, 7.14070756e+09,\n",
       "       3.94630000e+04, 5.88370000e+04, 2.27220000e+04, 7.14070870e+09,\n",
       "       7.16692018e+09, 7.13920566e+09, 6.69230000e+04, 7.14070141e+09,\n",
       "       9.92080000e+04, 7.14070435e+09, 1.06523000e+05, 7.13860059e+09,\n",
       "       1.15124000e+05, 1.09972000e+05, 7.31910000e+04, 7.13940578e+09,\n",
       "       7.11900252e+09, 7.17511027e+09, 9.88670000e+04, 7.16693102e+09,\n",
       "       7.13860182e+09, 7.14071026e+09, 1.93140000e+04])"
      ]
     },
     "execution_count": 16,
     "metadata": {},
     "output_type": "execute_result"
    }
   ],
   "source": [
    "# все наши поставщики\n",
    "\n",
    "purchases[\"Поставщик\"].unique()"
   ]
  },
  {
   "cell_type": "code",
   "execution_count": 53,
   "id": "eba46efc-37d0-46b8-b684-0d1497c40506",
   "metadata": {},
   "outputs": [
    {
     "ename": "SyntaxError",
     "evalue": "invalid syntax (598070022.py, line 1)",
     "output_type": "error",
     "traceback": [
      "\u001b[0;36m  Cell \u001b[0;32mIn[53], line 1\u001b[0;36m\u001b[0m\n\u001b[0;31m    purchases['Срок поставки'] = purchases[]\u001b[0m\n\u001b[0m                                           ^\u001b[0m\n\u001b[0;31mSyntaxError\u001b[0m\u001b[0;31m:\u001b[0m invalid syntax\n"
     ]
    }
   ],
   "source": [
    "purchases['Срок поставки'] = purchases[]"
   ]
  },
  {
   "cell_type": "code",
   "execution_count": 17,
   "id": "51eb7b77-d073-47a9-b620-c9cd9e3b9e1c",
   "metadata": {},
   "outputs": [],
   "source": [
    "purchases_input_format = {\n",
    "    \"Клиент\": purchases[\"Клиент\"].values,\n",
    "    \"Материал\": purchases[\"Материал\"].values,\n",
    "    \"Краткий текст материала\": purchases[\"Материал Имя\"].values,\n",
    "    \"ЕИ\": purchases[\"Базисная ЕИ\"].values,\n",
    "    \"Общее количество\": purchases[\"Кол-во к закупу, БЕИ\"].values,\n",
    "    \"Месяц поставки\": purchases[\"Срок поставки\"].dt.month.values,\n",
    "    \"Год поставки\": purchases[\"Срок поставки\"].dt.year.values,\n",
    "    \"Полугодие\": np.zeros(purchases.shape[0]),\n",
    "    \"Срок поставки\": purchases[\"Срок поставки\"].dt.strftime(\"%Y-%m-%d\").values,\n",
    "    \"Грузополучатель\": purchases[\"Грузополучатель\"].values,\n",
    "    \"Цена\": purchases[\"План.сумма с НДС 20%\"] + purchases[\"Цена поставки с НДС\"],\n",
    "    \"Способ закупки\": purchases[\"ГПЗ Способ закупки\"],\n",
    "    \"№ заказа\": purchases[\"Заявка на закупку\"],\n",
    "    \"№ позиции\": purchases[\"Позиц.\"],\n",
    "    \"Дата заказа\": purchases[\"Дата заявки\"].dt.strftime(\"%Y-%m-%d\").values,\n",
    "}"
   ]
  },
  {
   "cell_type": "code",
   "execution_count": 18,
   "id": "17d3c3a6-9962-4a8b-b506-744fbc0b8a6c",
   "metadata": {},
   "outputs": [],
   "source": [
    "purchases_input_format_df = pd.DataFrame(purchases_input_format)\n",
    "\n",
    "# Save the DataFrame to an Excel file\n",
    "purchases_input_format_df.to_excel(\"purchases_input_format.xlsx\", index=False)"
   ]
  },
  {
   "cell_type": "code",
   "execution_count": 19,
   "id": "59284730-40a2-4eff-bf3d-4064eeb19753",
   "metadata": {},
   "outputs": [
    {
     "data": {
      "text/plain": [
       "array(['2020-08-30T00:00:00.000000000', '2020-10-10T00:00:00.000000000',\n",
       "       '2020-08-30T00:00:00.000000000', ...,\n",
       "       '2024-07-31T00:00:00.000000000', '2024-07-31T00:00:00.000000000',\n",
       "       '2024-07-31T00:00:00.000000000'], dtype='datetime64[ns]')"
      ]
     },
     "execution_count": 19,
     "metadata": {},
     "output_type": "execute_result"
    }
   ],
   "source": [
    "purchases[\"Срок поставки\"].values"
   ]
  },
  {
   "cell_type": "code",
   "execution_count": 28,
   "id": "3f7cb4fc-fc7f-4a71-8c6c-66e82113eda0",
   "metadata": {},
   "outputs": [
    {
     "data": {
      "text/plain": [
       "array([0., 0., 0., ..., 0., 0., 0.])"
      ]
     },
     "execution_count": 28,
     "metadata": {},
     "output_type": "execute_result"
    }
   ],
   "source": [
    "np.zeros(purchases.shape[0])"
   ]
  },
  {
   "cell_type": "code",
   "execution_count": null,
   "id": "5aedfa51-501d-4c69-a77c-7bdaa42e6901",
   "metadata": {},
   "outputs": [],
   "source": []
  }
 ],
 "metadata": {
  "kernelspec": {
   "display_name": "Python 3 (ipykernel)",
   "language": "python",
   "name": "python3"
  },
  "language_info": {
   "codemirror_mode": {
    "name": "ipython",
    "version": 3
   },
   "file_extension": ".py",
   "mimetype": "text/x-python",
   "name": "python",
   "nbconvert_exporter": "python",
   "pygments_lexer": "ipython3",
   "version": "3.11.5"
  }
 },
 "nbformat": 4,
 "nbformat_minor": 5
}
